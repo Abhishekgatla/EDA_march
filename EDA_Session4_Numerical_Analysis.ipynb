{
 "cells": [
  {
   "cell_type": "markdown",
   "id": "a093a27c-286c-4920-ae49-7dd12bb39a18",
   "metadata": {},
   "source": [
    "**Import Packages**"
   ]
  },
  {
   "cell_type": "code",
   "execution_count": 24,
   "id": "20352d8f-af52-4b7b-bd44-3274758587cd",
   "metadata": {},
   "outputs": [],
   "source": [
    "import pandas as pd\n",
    "import numpy as np\n",
    "import matplotlib.pyplot as plt\n",
    "import seaborn as sns"
   ]
  },
  {
   "cell_type": "markdown",
   "id": "7797cd5f-575e-499f-a0f3-3495343d3c5e",
   "metadata": {},
   "source": [
    "**Import data**"
   ]
  },
  {
   "cell_type": "code",
   "execution_count": 25,
   "id": "3b22cbb6-8044-4ce4-8ab1-a480e6157d20",
   "metadata": {},
   "outputs": [
    {
     "data": {
      "text/html": [
       "<div>\n",
       "<style scoped>\n",
       "    .dataframe tbody tr th:only-of-type {\n",
       "        vertical-align: middle;\n",
       "    }\n",
       "\n",
       "    .dataframe tbody tr th {\n",
       "        vertical-align: top;\n",
       "    }\n",
       "\n",
       "    .dataframe thead th {\n",
       "        text-align: right;\n",
       "    }\n",
       "</style>\n",
       "<table border=\"1\" class=\"dataframe\">\n",
       "  <thead>\n",
       "    <tr style=\"text-align: right;\">\n",
       "      <th></th>\n",
       "      <th>case_id</th>\n",
       "      <th>continent</th>\n",
       "      <th>education_of_employee</th>\n",
       "      <th>has_job_experience</th>\n",
       "      <th>requires_job_training</th>\n",
       "      <th>no_of_employees</th>\n",
       "      <th>yr_of_estab</th>\n",
       "      <th>region_of_employment</th>\n",
       "      <th>prevailing_wage</th>\n",
       "      <th>unit_of_wage</th>\n",
       "      <th>full_time_position</th>\n",
       "      <th>case_status</th>\n",
       "    </tr>\n",
       "  </thead>\n",
       "  <tbody>\n",
       "    <tr>\n",
       "      <th>0</th>\n",
       "      <td>EZYV01</td>\n",
       "      <td>Asia</td>\n",
       "      <td>High School</td>\n",
       "      <td>N</td>\n",
       "      <td>N</td>\n",
       "      <td>14513</td>\n",
       "      <td>2007</td>\n",
       "      <td>West</td>\n",
       "      <td>592.2029</td>\n",
       "      <td>Hour</td>\n",
       "      <td>Y</td>\n",
       "      <td>Denied</td>\n",
       "    </tr>\n",
       "    <tr>\n",
       "      <th>1</th>\n",
       "      <td>EZYV02</td>\n",
       "      <td>Asia</td>\n",
       "      <td>Master's</td>\n",
       "      <td>Y</td>\n",
       "      <td>N</td>\n",
       "      <td>2412</td>\n",
       "      <td>2002</td>\n",
       "      <td>Northeast</td>\n",
       "      <td>83425.6500</td>\n",
       "      <td>Year</td>\n",
       "      <td>Y</td>\n",
       "      <td>Certified</td>\n",
       "    </tr>\n",
       "    <tr>\n",
       "      <th>2</th>\n",
       "      <td>EZYV03</td>\n",
       "      <td>Asia</td>\n",
       "      <td>Bachelor's</td>\n",
       "      <td>N</td>\n",
       "      <td>Y</td>\n",
       "      <td>44444</td>\n",
       "      <td>2008</td>\n",
       "      <td>West</td>\n",
       "      <td>122996.8600</td>\n",
       "      <td>Year</td>\n",
       "      <td>Y</td>\n",
       "      <td>Denied</td>\n",
       "    </tr>\n",
       "    <tr>\n",
       "      <th>3</th>\n",
       "      <td>EZYV04</td>\n",
       "      <td>Asia</td>\n",
       "      <td>Bachelor's</td>\n",
       "      <td>N</td>\n",
       "      <td>N</td>\n",
       "      <td>98</td>\n",
       "      <td>1897</td>\n",
       "      <td>West</td>\n",
       "      <td>83434.0300</td>\n",
       "      <td>Year</td>\n",
       "      <td>Y</td>\n",
       "      <td>Denied</td>\n",
       "    </tr>\n",
       "    <tr>\n",
       "      <th>4</th>\n",
       "      <td>EZYV05</td>\n",
       "      <td>Africa</td>\n",
       "      <td>Master's</td>\n",
       "      <td>Y</td>\n",
       "      <td>N</td>\n",
       "      <td>1082</td>\n",
       "      <td>2005</td>\n",
       "      <td>South</td>\n",
       "      <td>149907.3900</td>\n",
       "      <td>Year</td>\n",
       "      <td>Y</td>\n",
       "      <td>Certified</td>\n",
       "    </tr>\n",
       "    <tr>\n",
       "      <th>...</th>\n",
       "      <td>...</td>\n",
       "      <td>...</td>\n",
       "      <td>...</td>\n",
       "      <td>...</td>\n",
       "      <td>...</td>\n",
       "      <td>...</td>\n",
       "      <td>...</td>\n",
       "      <td>...</td>\n",
       "      <td>...</td>\n",
       "      <td>...</td>\n",
       "      <td>...</td>\n",
       "      <td>...</td>\n",
       "    </tr>\n",
       "    <tr>\n",
       "      <th>25475</th>\n",
       "      <td>EZYV25476</td>\n",
       "      <td>Asia</td>\n",
       "      <td>Bachelor's</td>\n",
       "      <td>Y</td>\n",
       "      <td>Y</td>\n",
       "      <td>2601</td>\n",
       "      <td>2008</td>\n",
       "      <td>South</td>\n",
       "      <td>77092.5700</td>\n",
       "      <td>Year</td>\n",
       "      <td>Y</td>\n",
       "      <td>Certified</td>\n",
       "    </tr>\n",
       "    <tr>\n",
       "      <th>25476</th>\n",
       "      <td>EZYV25477</td>\n",
       "      <td>Asia</td>\n",
       "      <td>High School</td>\n",
       "      <td>Y</td>\n",
       "      <td>N</td>\n",
       "      <td>3274</td>\n",
       "      <td>2006</td>\n",
       "      <td>Northeast</td>\n",
       "      <td>279174.7900</td>\n",
       "      <td>Year</td>\n",
       "      <td>Y</td>\n",
       "      <td>Certified</td>\n",
       "    </tr>\n",
       "    <tr>\n",
       "      <th>25477</th>\n",
       "      <td>EZYV25478</td>\n",
       "      <td>Asia</td>\n",
       "      <td>Master's</td>\n",
       "      <td>Y</td>\n",
       "      <td>N</td>\n",
       "      <td>1121</td>\n",
       "      <td>1910</td>\n",
       "      <td>South</td>\n",
       "      <td>146298.8500</td>\n",
       "      <td>Year</td>\n",
       "      <td>N</td>\n",
       "      <td>Certified</td>\n",
       "    </tr>\n",
       "    <tr>\n",
       "      <th>25478</th>\n",
       "      <td>EZYV25479</td>\n",
       "      <td>Asia</td>\n",
       "      <td>Master's</td>\n",
       "      <td>Y</td>\n",
       "      <td>Y</td>\n",
       "      <td>1918</td>\n",
       "      <td>1887</td>\n",
       "      <td>West</td>\n",
       "      <td>86154.7700</td>\n",
       "      <td>Year</td>\n",
       "      <td>Y</td>\n",
       "      <td>Certified</td>\n",
       "    </tr>\n",
       "    <tr>\n",
       "      <th>25479</th>\n",
       "      <td>EZYV25480</td>\n",
       "      <td>Asia</td>\n",
       "      <td>Bachelor's</td>\n",
       "      <td>Y</td>\n",
       "      <td>N</td>\n",
       "      <td>3195</td>\n",
       "      <td>1960</td>\n",
       "      <td>Midwest</td>\n",
       "      <td>70876.9100</td>\n",
       "      <td>Year</td>\n",
       "      <td>Y</td>\n",
       "      <td>Certified</td>\n",
       "    </tr>\n",
       "  </tbody>\n",
       "</table>\n",
       "<p>25480 rows × 12 columns</p>\n",
       "</div>"
      ],
      "text/plain": [
       "         case_id continent education_of_employee has_job_experience  \\\n",
       "0         EZYV01      Asia           High School                  N   \n",
       "1         EZYV02      Asia              Master's                  Y   \n",
       "2         EZYV03      Asia            Bachelor's                  N   \n",
       "3         EZYV04      Asia            Bachelor's                  N   \n",
       "4         EZYV05    Africa              Master's                  Y   \n",
       "...          ...       ...                   ...                ...   \n",
       "25475  EZYV25476      Asia            Bachelor's                  Y   \n",
       "25476  EZYV25477      Asia           High School                  Y   \n",
       "25477  EZYV25478      Asia              Master's                  Y   \n",
       "25478  EZYV25479      Asia              Master's                  Y   \n",
       "25479  EZYV25480      Asia            Bachelor's                  Y   \n",
       "\n",
       "      requires_job_training  no_of_employees  yr_of_estab  \\\n",
       "0                         N            14513         2007   \n",
       "1                         N             2412         2002   \n",
       "2                         Y            44444         2008   \n",
       "3                         N               98         1897   \n",
       "4                         N             1082         2005   \n",
       "...                     ...              ...          ...   \n",
       "25475                     Y             2601         2008   \n",
       "25476                     N             3274         2006   \n",
       "25477                     N             1121         1910   \n",
       "25478                     Y             1918         1887   \n",
       "25479                     N             3195         1960   \n",
       "\n",
       "      region_of_employment  prevailing_wage unit_of_wage full_time_position  \\\n",
       "0                     West         592.2029         Hour                  Y   \n",
       "1                Northeast       83425.6500         Year                  Y   \n",
       "2                     West      122996.8600         Year                  Y   \n",
       "3                     West       83434.0300         Year                  Y   \n",
       "4                    South      149907.3900         Year                  Y   \n",
       "...                    ...              ...          ...                ...   \n",
       "25475                South       77092.5700         Year                  Y   \n",
       "25476            Northeast      279174.7900         Year                  Y   \n",
       "25477                South      146298.8500         Year                  N   \n",
       "25478                 West       86154.7700         Year                  Y   \n",
       "25479              Midwest       70876.9100         Year                  Y   \n",
       "\n",
       "      case_status  \n",
       "0          Denied  \n",
       "1       Certified  \n",
       "2          Denied  \n",
       "3          Denied  \n",
       "4       Certified  \n",
       "...           ...  \n",
       "25475   Certified  \n",
       "25476   Certified  \n",
       "25477   Certified  \n",
       "25478   Certified  \n",
       "25479   Certified  \n",
       "\n",
       "[25480 rows x 12 columns]"
      ]
     },
     "execution_count": 25,
     "metadata": {},
     "output_type": "execute_result"
    }
   ],
   "source": [
    "visa_df=pd.read_csv(r\"C:\\Users\\abhis\\OneDrive\\Documents\\Narash it\\data files folders\\Visadataset - Visadataset.csv\")\n",
    "visa_df"
   ]
  },
  {
   "cell_type": "code",
   "execution_count": 4,
   "id": "0f6512a1-a669-45a1-b08a-5edc515c1f99",
   "metadata": {},
   "outputs": [
    {
     "data": {
      "text/plain": [
       "Index(['no_of_employees', 'yr_of_estab', 'prevailing_wage'], dtype='object')"
      ]
     },
     "execution_count": 4,
     "metadata": {},
     "output_type": "execute_result"
    }
   ],
   "source": [
    "visa_df.select_dtypes(exclude='object').columns"
   ]
  },
  {
   "cell_type": "markdown",
   "id": "ab1a9f88-c910-455a-bac2-3cc3be3fbebf",
   "metadata": {},
   "source": [
    "**prevailing_wage**"
   ]
  },
  {
   "cell_type": "markdown",
   "id": "77314166-ce38-4b88-9172-bb5f6c6f85a5",
   "metadata": {},
   "source": [
    "- len\n",
    "- max\n",
    "- min\n",
    "- mean\n",
    "- median\n",
    "- std\n",
    "- 75%\n",
    "- 50%\n",
    "- 25%"
   ]
  },
  {
   "cell_type": "markdown",
   "id": "950851b3-e456-4995-9fdc-5c5b7f51ae67",
   "metadata": {},
   "source": [
    "**count or len**"
   ]
  },
  {
   "cell_type": "code",
   "execution_count": 10,
   "id": "d69af31f-167d-4082-8b00-c3dbf81cf581",
   "metadata": {},
   "outputs": [
    {
     "data": {
      "text/plain": [
       "25480"
      ]
     },
     "execution_count": 10,
     "metadata": {},
     "output_type": "execute_result"
    }
   ],
   "source": [
    "len(visa_df.prevailing_wage)"
   ]
  },
  {
   "cell_type": "code",
   "execution_count": 11,
   "id": "515a8f67-b71a-4c31-b692-c2c802c19793",
   "metadata": {},
   "outputs": [
    {
     "data": {
      "text/plain": [
       "319210.27"
      ]
     },
     "execution_count": 11,
     "metadata": {},
     "output_type": "execute_result"
    }
   ],
   "source": [
    "max(visa_df.prevailing_wage)"
   ]
  },
  {
   "cell_type": "code",
   "execution_count": 6,
   "id": "c4294a3d-ef32-4720-8f30-7eb59bf2ce03",
   "metadata": {},
   "outputs": [
    {
     "data": {
      "text/plain": [
       "2.1367"
      ]
     },
     "execution_count": 6,
     "metadata": {},
     "output_type": "execute_result"
    }
   ],
   "source": [
    "min(visa_df.prevailing_wage)"
   ]
  },
  {
   "cell_type": "code",
   "execution_count": 11,
   "id": "7496eaf1-e3dd-4da7-a65e-3cb7af8b9214",
   "metadata": {},
   "outputs": [
    {
     "data": {
      "text/plain": [
       "2.1367"
      ]
     },
     "execution_count": 11,
     "metadata": {},
     "output_type": "execute_result"
    }
   ],
   "source": [
    "np.min(visa_df.prevailing_wage)"
   ]
  },
  {
   "cell_type": "code",
   "execution_count": null,
   "id": "8148ee34-2cfa-4aca-9ec1-cb0179cf2337",
   "metadata": {},
   "outputs": [],
   "source": [
    "mean\n"
   ]
  },
  {
   "cell_type": "code",
   "execution_count": 8,
   "id": "622813a3-13f6-49cb-8214-a1486e93860b",
   "metadata": {},
   "outputs": [
    {
     "data": {
      "text/plain": [
       "74455.81459209183"
      ]
     },
     "execution_count": 8,
     "metadata": {},
     "output_type": "execute_result"
    }
   ],
   "source": [
    "(visa_df.prevailing_wage).mean()"
   ]
  },
  {
   "cell_type": "code",
   "execution_count": 9,
   "id": "65622a69-81da-4d89-8f97-27cb95192c41",
   "metadata": {},
   "outputs": [
    {
     "data": {
      "text/plain": [
       "74455.81459209183"
      ]
     },
     "execution_count": 9,
     "metadata": {},
     "output_type": "execute_result"
    }
   ],
   "source": [
    "np.mean(visa_df.prevailing_wage)"
   ]
  },
  {
   "cell_type": "code",
   "execution_count": null,
   "id": "5f84e616-1947-4ff7-a90c-bd17d26c54c6",
   "metadata": {},
   "outputs": [],
   "source": [
    "media"
   ]
  },
  {
   "cell_type": "code",
   "execution_count": 13,
   "id": "9d7b5f05-af15-4926-9ac0-ce884650be36",
   "metadata": {},
   "outputs": [
    {
     "data": {
      "text/plain": [
       "70308.20999999999"
      ]
     },
     "execution_count": 13,
     "metadata": {},
     "output_type": "execute_result"
    }
   ],
   "source": [
    "(visa_df.prevailing_wage).median()"
   ]
  },
  {
   "cell_type": "code",
   "execution_count": 14,
   "id": "6d99ba84-cb59-48d9-b01a-613f27c2a888",
   "metadata": {},
   "outputs": [
    {
     "data": {
      "text/plain": [
       "52815.94232687357"
      ]
     },
     "execution_count": 14,
     "metadata": {},
     "output_type": "execute_result"
    }
   ],
   "source": [
    "visa_df.prevailing_wage.std()"
   ]
  },
  {
   "cell_type": "code",
   "execution_count": 15,
   "id": "481e7b59-01f7-4abf-8c60-7598842e7ec0",
   "metadata": {},
   "outputs": [
    {
     "data": {
      "text/plain": [
       "52814.90589711402"
      ]
     },
     "execution_count": 15,
     "metadata": {},
     "output_type": "execute_result"
    }
   ],
   "source": [
    "np.std(visa_df.prevailing_wage)"
   ]
  },
  {
   "cell_type": "code",
   "execution_count": 28,
   "id": "eb5aa19a-9bc2-4548-823c-6dfc5a261133",
   "metadata": {},
   "outputs": [
    {
     "data": {
      "text/html": [
       "<div>\n",
       "<style scoped>\n",
       "    .dataframe tbody tr th:only-of-type {\n",
       "        vertical-align: middle;\n",
       "    }\n",
       "\n",
       "    .dataframe tbody tr th {\n",
       "        vertical-align: top;\n",
       "    }\n",
       "\n",
       "    .dataframe thead th {\n",
       "        text-align: right;\n",
       "    }\n",
       "</style>\n",
       "<table border=\"1\" class=\"dataframe\">\n",
       "  <thead>\n",
       "    <tr style=\"text-align: right;\">\n",
       "      <th></th>\n",
       "      <th>prevailing_wage</th>\n",
       "    </tr>\n",
       "  </thead>\n",
       "  <tbody>\n",
       "    <tr>\n",
       "      <th>count</th>\n",
       "      <td>25480.000000</td>\n",
       "    </tr>\n",
       "    <tr>\n",
       "      <th>max</th>\n",
       "      <td>319210.270000</td>\n",
       "    </tr>\n",
       "    <tr>\n",
       "      <th>min</th>\n",
       "      <td>2.136700</td>\n",
       "    </tr>\n",
       "    <tr>\n",
       "      <th>mean</th>\n",
       "      <td>74455.814592</td>\n",
       "    </tr>\n",
       "    <tr>\n",
       "      <th>median</th>\n",
       "      <td>70308.210000</td>\n",
       "    </tr>\n",
       "    <tr>\n",
       "      <th>std</th>\n",
       "      <td>52815.942327</td>\n",
       "    </tr>\n",
       "  </tbody>\n",
       "</table>\n",
       "</div>"
      ],
      "text/plain": [
       "        prevailing_wage\n",
       "count      25480.000000\n",
       "max       319210.270000\n",
       "min            2.136700\n",
       "mean       74455.814592\n",
       "median     70308.210000\n",
       "std        52815.942327"
      ]
     },
     "execution_count": 28,
     "metadata": {},
     "output_type": "execute_result"
    }
   ],
   "source": [
    "\n",
    "wage_count= round(len(visa_df.prevailing_wage),2)\n",
    "wage_max= max(visa_df.prevailing_wage)\n",
    "wage_min= min(visa_df.prevailing_wage)\n",
    "wage_mean= (visa_df.prevailing_wage).mean()\n",
    "wage_median= (visa_df.prevailing_wage).median()\n",
    "wage_std= visa_df.prevailing_wage.std()\n",
    "list_values=[wage_count,wage_max,wage_min,wage_mean,wage_median,wage_std]\n",
    "index_valus=['count','max','min','mean','median','std']\n",
    "pd.DataFrame(list_values,columns=['prevailing_wage'],index=index_valus)"
   ]
  },
  {
   "cell_type": "markdown",
   "id": "1d5b882e-0a26-4be3-b387-36249c029d95",
   "metadata": {},
   "source": [
    "** Percentile and Quantile**\n",
    "- percentile:\n",
    "    - np.percentile()\n",
    "    - it will take two arguments\n",
    "                - data :a\n",
    "                - percentile:q the value varies from 0 to 100\n",
    "                - if u want 50p data q=50\n",
    "- quantile:\n",
    "    - np.quantile()\n",
    "    - it will take two arguments\n",
    "                - data :a\n",
    "                - quantile:q the value varies from 0 to 1\n",
    "                - if u want 50p data q=0.5"
   ]
  },
  {
   "cell_type": "code",
   "execution_count": null,
   "id": "aca99191-b71f-4cd8-9bf6-300a296fdbc1",
   "metadata": {},
   "outputs": [],
   "source": [
    "25p- 50p- 75p"
   ]
  },
  {
   "cell_type": "code",
   "execution_count": 38,
   "id": "069df8d6-d3ae-47b1-849b-80038ec9c81c",
   "metadata": {},
   "outputs": [
    {
     "name": "stdout",
     "output_type": "stream",
     "text": [
      "the 25% data is:34015.48\n",
      "the 50% data is:70308.21\n",
      "the 75% data is:107735.51\n"
     ]
    }
   ],
   "source": [
    "wage_25p=round(np.percentile((visa_df.prevailing_wage),25),2)\n",
    "wage_50p=round(np.percentile((visa_df.prevailing_wage),50),2)\n",
    "wage_75p=round(np.percentile((visa_df.prevailing_wage),75),2)\n",
    "\n",
    "print('the 25% data is:{}'.format(wage_25p))\n",
    "print('the 50% data is:{}'.format(wage_50p))\n",
    "print('the 75% data is:{}'.format(wage_75p))"
   ]
  },
  {
   "cell_type": "code",
   "execution_count": 44,
   "id": "eeae4f03-b6ca-4110-a60e-361442098645",
   "metadata": {},
   "outputs": [
    {
     "name": "stdout",
     "output_type": "stream",
     "text": [
      "the 25% data is:34015.48\n",
      "the 50% data is:70308.21\n",
      "the 75% data is:107735.51\n"
     ]
    }
   ],
   "source": [
    "wage_25p=round(np.quantile(visa_df.prevailing_wage,0.25),2)\n",
    "wage_50p=round(np.quantile(visa_df.prevailing_wage,0.5),2)\n",
    "wage_75p=round(np.quantile(visa_df.prevailing_wage,0.75),2)\n",
    "\n",
    "print('the 25% data is:{}'.format(wage_25p))\n",
    "print('the 50% data is:{}'.format(wage_50p))\n",
    "print('the 75% data is:{}'.format(wage_75p))"
   ]
  },
  {
   "cell_type": "code",
   "execution_count": 53,
   "id": "1bd75337-de44-4d65-82b9-d397fb03d3f1",
   "metadata": {},
   "outputs": [
    {
     "data": {
      "text/plain": [
       "0           592.2029\n",
       "1         83425.6500\n",
       "2        122996.8600\n",
       "3         83434.0300\n",
       "4        149907.3900\n",
       "            ...     \n",
       "25475     77092.5700\n",
       "25476    279174.7900\n",
       "25477    146298.8500\n",
       "25478     86154.7700\n",
       "25479     70876.9100\n",
       "Name: prevailing_wage, Length: 25480, dtype: float64"
      ]
     },
     "execution_count": 53,
     "metadata": {},
     "output_type": "execute_result"
    }
   ],
   "source": [
    "con= visa_df.prevailing_wage\n",
    "con"
   ]
  },
  {
   "cell_type": "code",
   "execution_count": 48,
   "id": "4f7f0172-4f36-4207-be94-9b3b265749b8",
   "metadata": {},
   "outputs": [
    {
     "data": {
      "text/plain": [
       "0         True\n",
       "1        False\n",
       "2        False\n",
       "3        False\n",
       "4        False\n",
       "         ...  \n",
       "25475    False\n",
       "25476    False\n",
       "25477    False\n",
       "25478    False\n",
       "25479    False\n",
       "Name: prevailing_wage, Length: 25480, dtype: bool"
      ]
     },
     "execution_count": 48,
     "metadata": {},
     "output_type": "execute_result"
    }
   ],
   "source": [
    "con= visa_df.prevailing_wage<34015\n",
    "con"
   ]
  },
  {
   "cell_type": "code",
   "execution_count": 49,
   "id": "22459d8f-3117-4667-a628-bd07e2b68c5c",
   "metadata": {},
   "outputs": [
    {
     "data": {
      "text/plain": [
       "6370"
      ]
     },
     "execution_count": 49,
     "metadata": {},
     "output_type": "execute_result"
    }
   ],
   "source": [
    "len(visa_df[con])"
   ]
  },
  {
   "cell_type": "code",
   "execution_count": 54,
   "id": "3cc67549-c302-480d-8c76-1be85a5891ca",
   "metadata": {},
   "outputs": [
    {
     "data": {
      "text/plain": [
       "6370"
      ]
     },
     "execution_count": 54,
     "metadata": {},
     "output_type": "execute_result"
    }
   ],
   "source": [
    "con= visa_df.prevailing_wage<wage_25p\n",
    "len(visa_df[con])"
   ]
  },
  {
   "cell_type": "code",
   "execution_count": 55,
   "id": "2106d9de-b76a-4be9-bb74-56be7fd83c92",
   "metadata": {},
   "outputs": [
    {
     "data": {
      "text/plain": [
       "12740"
      ]
     },
     "execution_count": 55,
     "metadata": {},
     "output_type": "execute_result"
    }
   ],
   "source": [
    "con= visa_df.prevailing_wage<wage_50p\n",
    "len(visa_df[con])"
   ]
  },
  {
   "cell_type": "code",
   "execution_count": 56,
   "id": "79f1aaf0-c359-41b9-8597-f6a29f6d4643",
   "metadata": {},
   "outputs": [
    {
     "data": {
      "text/plain": [
       "19110"
      ]
     },
     "execution_count": 56,
     "metadata": {},
     "output_type": "execute_result"
    }
   ],
   "source": [
    "con= visa_df.prevailing_wage<wage_75p\n",
    "len(visa_df[con])"
   ]
  },
  {
   "cell_type": "markdown",
   "id": "e42adafb-cd1e-43d3-892d-6180a675032d",
   "metadata": {},
   "source": [
    "**emprical rule**\n",
    "<img id=\"dimg_395\" src=\"data:image/jpeg;base64,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\" class=\"YQ4gaf\" height=\"159\" style=\"object-position:0% 25%\" width=\"318\" alt=\"Empirical Rule (68-95-99.7) Explained ...\" data-csiid=\"24\" data-atf=\"1\">"
   ]
  },
  {
   "cell_type": "markdown",
   "id": "563f7d8b-fc36-4068-9c2b-430a818a9b9b",
   "metadata": {},
   "source": [
    "- first calculate mean value\n",
    "- second calculate std value\n",
    "- con1: mean-1*std\n",
    "- con2: mean+1*std\n",
    "- if you apply above conditions on wage data,the output count \n",
    "  should be \n",
    "- 68% of total employes: 17326"
   ]
  },
  {
   "cell_type": "code",
   "execution_count": 60,
   "id": "ab35e485-93d0-402f-af74-cf7062c6c5ff",
   "metadata": {},
   "outputs": [
    {
     "data": {
      "text/html": [
       "<div>\n",
       "<style scoped>\n",
       "    .dataframe tbody tr th:only-of-type {\n",
       "        vertical-align: middle;\n",
       "    }\n",
       "\n",
       "    .dataframe tbody tr th {\n",
       "        vertical-align: top;\n",
       "    }\n",
       "\n",
       "    .dataframe thead th {\n",
       "        text-align: right;\n",
       "    }\n",
       "</style>\n",
       "<table border=\"1\" class=\"dataframe\">\n",
       "  <thead>\n",
       "    <tr style=\"text-align: right;\">\n",
       "      <th></th>\n",
       "      <th>case_id</th>\n",
       "      <th>continent</th>\n",
       "      <th>education_of_employee</th>\n",
       "      <th>has_job_experience</th>\n",
       "      <th>requires_job_training</th>\n",
       "      <th>no_of_employees</th>\n",
       "      <th>yr_of_estab</th>\n",
       "      <th>region_of_employment</th>\n",
       "      <th>prevailing_wage</th>\n",
       "      <th>unit_of_wage</th>\n",
       "      <th>full_time_position</th>\n",
       "      <th>case_status</th>\n",
       "    </tr>\n",
       "  </thead>\n",
       "  <tbody>\n",
       "    <tr>\n",
       "      <th>1</th>\n",
       "      <td>EZYV02</td>\n",
       "      <td>Asia</td>\n",
       "      <td>Master's</td>\n",
       "      <td>Y</td>\n",
       "      <td>N</td>\n",
       "      <td>2412</td>\n",
       "      <td>2002</td>\n",
       "      <td>Northeast</td>\n",
       "      <td>83425.65</td>\n",
       "      <td>Year</td>\n",
       "      <td>Y</td>\n",
       "      <td>Certified</td>\n",
       "    </tr>\n",
       "    <tr>\n",
       "      <th>2</th>\n",
       "      <td>EZYV03</td>\n",
       "      <td>Asia</td>\n",
       "      <td>Bachelor's</td>\n",
       "      <td>N</td>\n",
       "      <td>Y</td>\n",
       "      <td>44444</td>\n",
       "      <td>2008</td>\n",
       "      <td>West</td>\n",
       "      <td>122996.86</td>\n",
       "      <td>Year</td>\n",
       "      <td>Y</td>\n",
       "      <td>Denied</td>\n",
       "    </tr>\n",
       "    <tr>\n",
       "      <th>3</th>\n",
       "      <td>EZYV04</td>\n",
       "      <td>Asia</td>\n",
       "      <td>Bachelor's</td>\n",
       "      <td>N</td>\n",
       "      <td>N</td>\n",
       "      <td>98</td>\n",
       "      <td>1897</td>\n",
       "      <td>West</td>\n",
       "      <td>83434.03</td>\n",
       "      <td>Year</td>\n",
       "      <td>Y</td>\n",
       "      <td>Denied</td>\n",
       "    </tr>\n",
       "    <tr>\n",
       "      <th>5</th>\n",
       "      <td>EZYV06</td>\n",
       "      <td>Asia</td>\n",
       "      <td>Master's</td>\n",
       "      <td>Y</td>\n",
       "      <td>N</td>\n",
       "      <td>2339</td>\n",
       "      <td>2012</td>\n",
       "      <td>South</td>\n",
       "      <td>78252.14</td>\n",
       "      <td>Year</td>\n",
       "      <td>Y</td>\n",
       "      <td>Certified</td>\n",
       "    </tr>\n",
       "    <tr>\n",
       "      <th>6</th>\n",
       "      <td>EZYV07</td>\n",
       "      <td>Asia</td>\n",
       "      <td>Bachelor's</td>\n",
       "      <td>N</td>\n",
       "      <td>N</td>\n",
       "      <td>4985</td>\n",
       "      <td>1994</td>\n",
       "      <td>South</td>\n",
       "      <td>53635.39</td>\n",
       "      <td>Year</td>\n",
       "      <td>Y</td>\n",
       "      <td>Certified</td>\n",
       "    </tr>\n",
       "    <tr>\n",
       "      <th>...</th>\n",
       "      <td>...</td>\n",
       "      <td>...</td>\n",
       "      <td>...</td>\n",
       "      <td>...</td>\n",
       "      <td>...</td>\n",
       "      <td>...</td>\n",
       "      <td>...</td>\n",
       "      <td>...</td>\n",
       "      <td>...</td>\n",
       "      <td>...</td>\n",
       "      <td>...</td>\n",
       "      <td>...</td>\n",
       "    </tr>\n",
       "    <tr>\n",
       "      <th>25473</th>\n",
       "      <td>EZYV25474</td>\n",
       "      <td>Asia</td>\n",
       "      <td>Bachelor's</td>\n",
       "      <td>Y</td>\n",
       "      <td>N</td>\n",
       "      <td>2421</td>\n",
       "      <td>2007</td>\n",
       "      <td>Northeast</td>\n",
       "      <td>22845.56</td>\n",
       "      <td>Year</td>\n",
       "      <td>Y</td>\n",
       "      <td>Certified</td>\n",
       "    </tr>\n",
       "    <tr>\n",
       "      <th>25474</th>\n",
       "      <td>EZYV25475</td>\n",
       "      <td>Africa</td>\n",
       "      <td>Doctorate</td>\n",
       "      <td>N</td>\n",
       "      <td>N</td>\n",
       "      <td>2594</td>\n",
       "      <td>1979</td>\n",
       "      <td>Northeast</td>\n",
       "      <td>51104.78</td>\n",
       "      <td>Year</td>\n",
       "      <td>Y</td>\n",
       "      <td>Certified</td>\n",
       "    </tr>\n",
       "    <tr>\n",
       "      <th>25475</th>\n",
       "      <td>EZYV25476</td>\n",
       "      <td>Asia</td>\n",
       "      <td>Bachelor's</td>\n",
       "      <td>Y</td>\n",
       "      <td>Y</td>\n",
       "      <td>2601</td>\n",
       "      <td>2008</td>\n",
       "      <td>South</td>\n",
       "      <td>77092.57</td>\n",
       "      <td>Year</td>\n",
       "      <td>Y</td>\n",
       "      <td>Certified</td>\n",
       "    </tr>\n",
       "    <tr>\n",
       "      <th>25478</th>\n",
       "      <td>EZYV25479</td>\n",
       "      <td>Asia</td>\n",
       "      <td>Master's</td>\n",
       "      <td>Y</td>\n",
       "      <td>Y</td>\n",
       "      <td>1918</td>\n",
       "      <td>1887</td>\n",
       "      <td>West</td>\n",
       "      <td>86154.77</td>\n",
       "      <td>Year</td>\n",
       "      <td>Y</td>\n",
       "      <td>Certified</td>\n",
       "    </tr>\n",
       "    <tr>\n",
       "      <th>25479</th>\n",
       "      <td>EZYV25480</td>\n",
       "      <td>Asia</td>\n",
       "      <td>Bachelor's</td>\n",
       "      <td>Y</td>\n",
       "      <td>N</td>\n",
       "      <td>3195</td>\n",
       "      <td>1960</td>\n",
       "      <td>Midwest</td>\n",
       "      <td>70876.91</td>\n",
       "      <td>Year</td>\n",
       "      <td>Y</td>\n",
       "      <td>Certified</td>\n",
       "    </tr>\n",
       "  </tbody>\n",
       "</table>\n",
       "<p>17171 rows × 12 columns</p>\n",
       "</div>"
      ],
      "text/plain": [
       "         case_id continent education_of_employee has_job_experience  \\\n",
       "1         EZYV02      Asia              Master's                  Y   \n",
       "2         EZYV03      Asia            Bachelor's                  N   \n",
       "3         EZYV04      Asia            Bachelor's                  N   \n",
       "5         EZYV06      Asia              Master's                  Y   \n",
       "6         EZYV07      Asia            Bachelor's                  N   \n",
       "...          ...       ...                   ...                ...   \n",
       "25473  EZYV25474      Asia            Bachelor's                  Y   \n",
       "25474  EZYV25475    Africa             Doctorate                  N   \n",
       "25475  EZYV25476      Asia            Bachelor's                  Y   \n",
       "25478  EZYV25479      Asia              Master's                  Y   \n",
       "25479  EZYV25480      Asia            Bachelor's                  Y   \n",
       "\n",
       "      requires_job_training  no_of_employees  yr_of_estab  \\\n",
       "1                         N             2412         2002   \n",
       "2                         Y            44444         2008   \n",
       "3                         N               98         1897   \n",
       "5                         N             2339         2012   \n",
       "6                         N             4985         1994   \n",
       "...                     ...              ...          ...   \n",
       "25473                     N             2421         2007   \n",
       "25474                     N             2594         1979   \n",
       "25475                     Y             2601         2008   \n",
       "25478                     Y             1918         1887   \n",
       "25479                     N             3195         1960   \n",
       "\n",
       "      region_of_employment  prevailing_wage unit_of_wage full_time_position  \\\n",
       "1                Northeast         83425.65         Year                  Y   \n",
       "2                     West        122996.86         Year                  Y   \n",
       "3                     West         83434.03         Year                  Y   \n",
       "5                    South         78252.14         Year                  Y   \n",
       "6                    South         53635.39         Year                  Y   \n",
       "...                    ...              ...          ...                ...   \n",
       "25473            Northeast         22845.56         Year                  Y   \n",
       "25474            Northeast         51104.78         Year                  Y   \n",
       "25475                South         77092.57         Year                  Y   \n",
       "25478                 West         86154.77         Year                  Y   \n",
       "25479              Midwest         70876.91         Year                  Y   \n",
       "\n",
       "      case_status  \n",
       "1       Certified  \n",
       "2          Denied  \n",
       "3          Denied  \n",
       "5       Certified  \n",
       "6       Certified  \n",
       "...           ...  \n",
       "25473   Certified  \n",
       "25474   Certified  \n",
       "25475   Certified  \n",
       "25478   Certified  \n",
       "25479   Certified  \n",
       "\n",
       "[17171 rows x 12 columns]"
      ]
     },
     "execution_count": 60,
     "metadata": {},
     "output_type": "execute_result"
    }
   ],
   "source": [
    "v1=wage_mean-1*wage_std\n",
    "v2=wage_mean+1*wage_std\n",
    "v1,v2\n",
    "con1=visa_df.prevailing_wage >v1\n",
    "con2=visa_df.prevailing_wage <v2\n",
    "visa_df[con1 & con2]\n"
   ]
  },
  {
   "cell_type": "code",
   "execution_count": 62,
   "id": "6dbacdca-6568-43cc-acfb-bac170f91d6a",
   "metadata": {},
   "outputs": [
    {
     "data": {
      "text/plain": [
       "17171"
      ]
     },
     "execution_count": 62,
     "metadata": {},
     "output_type": "execute_result"
    }
   ],
   "source": [
    "count1=len(visa_df[con1 & con2])\n",
    "count1"
   ]
  },
  {
   "cell_type": "code",
   "execution_count": 65,
   "id": "20d63773-fc99-486e-b59c-9dca95041378",
   "metadata": {},
   "outputs": [
    {
     "data": {
      "text/html": [
       "<div>\n",
       "<style scoped>\n",
       "    .dataframe tbody tr th:only-of-type {\n",
       "        vertical-align: middle;\n",
       "    }\n",
       "\n",
       "    .dataframe tbody tr th {\n",
       "        vertical-align: top;\n",
       "    }\n",
       "\n",
       "    .dataframe thead th {\n",
       "        text-align: right;\n",
       "    }\n",
       "</style>\n",
       "<table border=\"1\" class=\"dataframe\">\n",
       "  <thead>\n",
       "    <tr style=\"text-align: right;\">\n",
       "      <th></th>\n",
       "      <th>case_id</th>\n",
       "      <th>continent</th>\n",
       "      <th>education_of_employee</th>\n",
       "      <th>has_job_experience</th>\n",
       "      <th>requires_job_training</th>\n",
       "      <th>no_of_employees</th>\n",
       "      <th>yr_of_estab</th>\n",
       "      <th>region_of_employment</th>\n",
       "      <th>prevailing_wage</th>\n",
       "      <th>unit_of_wage</th>\n",
       "      <th>full_time_position</th>\n",
       "      <th>case_status</th>\n",
       "    </tr>\n",
       "  </thead>\n",
       "  <tbody>\n",
       "    <tr>\n",
       "      <th>0</th>\n",
       "      <td>EZYV01</td>\n",
       "      <td>Asia</td>\n",
       "      <td>High School</td>\n",
       "      <td>N</td>\n",
       "      <td>N</td>\n",
       "      <td>14513</td>\n",
       "      <td>2007</td>\n",
       "      <td>West</td>\n",
       "      <td>592.2029</td>\n",
       "      <td>Hour</td>\n",
       "      <td>Y</td>\n",
       "      <td>Denied</td>\n",
       "    </tr>\n",
       "    <tr>\n",
       "      <th>1</th>\n",
       "      <td>EZYV02</td>\n",
       "      <td>Asia</td>\n",
       "      <td>Master's</td>\n",
       "      <td>Y</td>\n",
       "      <td>N</td>\n",
       "      <td>2412</td>\n",
       "      <td>2002</td>\n",
       "      <td>Northeast</td>\n",
       "      <td>83425.6500</td>\n",
       "      <td>Year</td>\n",
       "      <td>Y</td>\n",
       "      <td>Certified</td>\n",
       "    </tr>\n",
       "    <tr>\n",
       "      <th>2</th>\n",
       "      <td>EZYV03</td>\n",
       "      <td>Asia</td>\n",
       "      <td>Bachelor's</td>\n",
       "      <td>N</td>\n",
       "      <td>Y</td>\n",
       "      <td>44444</td>\n",
       "      <td>2008</td>\n",
       "      <td>West</td>\n",
       "      <td>122996.8600</td>\n",
       "      <td>Year</td>\n",
       "      <td>Y</td>\n",
       "      <td>Denied</td>\n",
       "    </tr>\n",
       "    <tr>\n",
       "      <th>3</th>\n",
       "      <td>EZYV04</td>\n",
       "      <td>Asia</td>\n",
       "      <td>Bachelor's</td>\n",
       "      <td>N</td>\n",
       "      <td>N</td>\n",
       "      <td>98</td>\n",
       "      <td>1897</td>\n",
       "      <td>West</td>\n",
       "      <td>83434.0300</td>\n",
       "      <td>Year</td>\n",
       "      <td>Y</td>\n",
       "      <td>Denied</td>\n",
       "    </tr>\n",
       "    <tr>\n",
       "      <th>4</th>\n",
       "      <td>EZYV05</td>\n",
       "      <td>Africa</td>\n",
       "      <td>Master's</td>\n",
       "      <td>Y</td>\n",
       "      <td>N</td>\n",
       "      <td>1082</td>\n",
       "      <td>2005</td>\n",
       "      <td>South</td>\n",
       "      <td>149907.3900</td>\n",
       "      <td>Year</td>\n",
       "      <td>Y</td>\n",
       "      <td>Certified</td>\n",
       "    </tr>\n",
       "    <tr>\n",
       "      <th>...</th>\n",
       "      <td>...</td>\n",
       "      <td>...</td>\n",
       "      <td>...</td>\n",
       "      <td>...</td>\n",
       "      <td>...</td>\n",
       "      <td>...</td>\n",
       "      <td>...</td>\n",
       "      <td>...</td>\n",
       "      <td>...</td>\n",
       "      <td>...</td>\n",
       "      <td>...</td>\n",
       "      <td>...</td>\n",
       "    </tr>\n",
       "    <tr>\n",
       "      <th>25474</th>\n",
       "      <td>EZYV25475</td>\n",
       "      <td>Africa</td>\n",
       "      <td>Doctorate</td>\n",
       "      <td>N</td>\n",
       "      <td>N</td>\n",
       "      <td>2594</td>\n",
       "      <td>1979</td>\n",
       "      <td>Northeast</td>\n",
       "      <td>51104.7800</td>\n",
       "      <td>Year</td>\n",
       "      <td>Y</td>\n",
       "      <td>Certified</td>\n",
       "    </tr>\n",
       "    <tr>\n",
       "      <th>25475</th>\n",
       "      <td>EZYV25476</td>\n",
       "      <td>Asia</td>\n",
       "      <td>Bachelor's</td>\n",
       "      <td>Y</td>\n",
       "      <td>Y</td>\n",
       "      <td>2601</td>\n",
       "      <td>2008</td>\n",
       "      <td>South</td>\n",
       "      <td>77092.5700</td>\n",
       "      <td>Year</td>\n",
       "      <td>Y</td>\n",
       "      <td>Certified</td>\n",
       "    </tr>\n",
       "    <tr>\n",
       "      <th>25477</th>\n",
       "      <td>EZYV25478</td>\n",
       "      <td>Asia</td>\n",
       "      <td>Master's</td>\n",
       "      <td>Y</td>\n",
       "      <td>N</td>\n",
       "      <td>1121</td>\n",
       "      <td>1910</td>\n",
       "      <td>South</td>\n",
       "      <td>146298.8500</td>\n",
       "      <td>Year</td>\n",
       "      <td>N</td>\n",
       "      <td>Certified</td>\n",
       "    </tr>\n",
       "    <tr>\n",
       "      <th>25478</th>\n",
       "      <td>EZYV25479</td>\n",
       "      <td>Asia</td>\n",
       "      <td>Master's</td>\n",
       "      <td>Y</td>\n",
       "      <td>Y</td>\n",
       "      <td>1918</td>\n",
       "      <td>1887</td>\n",
       "      <td>West</td>\n",
       "      <td>86154.7700</td>\n",
       "      <td>Year</td>\n",
       "      <td>Y</td>\n",
       "      <td>Certified</td>\n",
       "    </tr>\n",
       "    <tr>\n",
       "      <th>25479</th>\n",
       "      <td>EZYV25480</td>\n",
       "      <td>Asia</td>\n",
       "      <td>Bachelor's</td>\n",
       "      <td>Y</td>\n",
       "      <td>N</td>\n",
       "      <td>3195</td>\n",
       "      <td>1960</td>\n",
       "      <td>Midwest</td>\n",
       "      <td>70876.9100</td>\n",
       "      <td>Year</td>\n",
       "      <td>Y</td>\n",
       "      <td>Certified</td>\n",
       "    </tr>\n",
       "  </tbody>\n",
       "</table>\n",
       "<p>24582 rows × 12 columns</p>\n",
       "</div>"
      ],
      "text/plain": [
       "         case_id continent education_of_employee has_job_experience  \\\n",
       "0         EZYV01      Asia           High School                  N   \n",
       "1         EZYV02      Asia              Master's                  Y   \n",
       "2         EZYV03      Asia            Bachelor's                  N   \n",
       "3         EZYV04      Asia            Bachelor's                  N   \n",
       "4         EZYV05    Africa              Master's                  Y   \n",
       "...          ...       ...                   ...                ...   \n",
       "25474  EZYV25475    Africa             Doctorate                  N   \n",
       "25475  EZYV25476      Asia            Bachelor's                  Y   \n",
       "25477  EZYV25478      Asia              Master's                  Y   \n",
       "25478  EZYV25479      Asia              Master's                  Y   \n",
       "25479  EZYV25480      Asia            Bachelor's                  Y   \n",
       "\n",
       "      requires_job_training  no_of_employees  yr_of_estab  \\\n",
       "0                         N            14513         2007   \n",
       "1                         N             2412         2002   \n",
       "2                         Y            44444         2008   \n",
       "3                         N               98         1897   \n",
       "4                         N             1082         2005   \n",
       "...                     ...              ...          ...   \n",
       "25474                     N             2594         1979   \n",
       "25475                     Y             2601         2008   \n",
       "25477                     N             1121         1910   \n",
       "25478                     Y             1918         1887   \n",
       "25479                     N             3195         1960   \n",
       "\n",
       "      region_of_employment  prevailing_wage unit_of_wage full_time_position  \\\n",
       "0                     West         592.2029         Hour                  Y   \n",
       "1                Northeast       83425.6500         Year                  Y   \n",
       "2                     West      122996.8600         Year                  Y   \n",
       "3                     West       83434.0300         Year                  Y   \n",
       "4                    South      149907.3900         Year                  Y   \n",
       "...                    ...              ...          ...                ...   \n",
       "25474            Northeast       51104.7800         Year                  Y   \n",
       "25475                South       77092.5700         Year                  Y   \n",
       "25477                South      146298.8500         Year                  N   \n",
       "25478                 West       86154.7700         Year                  Y   \n",
       "25479              Midwest       70876.9100         Year                  Y   \n",
       "\n",
       "      case_status  \n",
       "0          Denied  \n",
       "1       Certified  \n",
       "2          Denied  \n",
       "3          Denied  \n",
       "4       Certified  \n",
       "...           ...  \n",
       "25474   Certified  \n",
       "25475   Certified  \n",
       "25477   Certified  \n",
       "25478   Certified  \n",
       "25479   Certified  \n",
       "\n",
       "[24582 rows x 12 columns]"
      ]
     },
     "execution_count": 65,
     "metadata": {},
     "output_type": "execute_result"
    }
   ],
   "source": [
    "v3=wage_mean-2*wage_std\n",
    "v4=wage_mean+2*wage_std\n",
    "v3,v4\n",
    "con3=visa_df.prevailing_wage >v3\n",
    "con4=visa_df.prevailing_wage <v4\n",
    "visa_df[con3 & con4]\n"
   ]
  },
  {
   "cell_type": "code",
   "execution_count": 64,
   "id": "f7170d81-41ea-4686-bb15-2e714c010098",
   "metadata": {},
   "outputs": [
    {
     "data": {
      "text/plain": [
       "24582"
      ]
     },
     "execution_count": 64,
     "metadata": {},
     "output_type": "execute_result"
    }
   ],
   "source": [
    "count2=len(visa_df[con3 & con4])\n",
    "count2"
   ]
  },
  {
   "cell_type": "code",
   "execution_count": 66,
   "id": "fff59fc6-f5d3-4228-a675-80b2dec4530e",
   "metadata": {},
   "outputs": [
    {
     "data": {
      "text/html": [
       "<div>\n",
       "<style scoped>\n",
       "    .dataframe tbody tr th:only-of-type {\n",
       "        vertical-align: middle;\n",
       "    }\n",
       "\n",
       "    .dataframe tbody tr th {\n",
       "        vertical-align: top;\n",
       "    }\n",
       "\n",
       "    .dataframe thead th {\n",
       "        text-align: right;\n",
       "    }\n",
       "</style>\n",
       "<table border=\"1\" class=\"dataframe\">\n",
       "  <thead>\n",
       "    <tr style=\"text-align: right;\">\n",
       "      <th></th>\n",
       "      <th>case_id</th>\n",
       "      <th>continent</th>\n",
       "      <th>education_of_employee</th>\n",
       "      <th>has_job_experience</th>\n",
       "      <th>requires_job_training</th>\n",
       "      <th>no_of_employees</th>\n",
       "      <th>yr_of_estab</th>\n",
       "      <th>region_of_employment</th>\n",
       "      <th>prevailing_wage</th>\n",
       "      <th>unit_of_wage</th>\n",
       "      <th>full_time_position</th>\n",
       "      <th>case_status</th>\n",
       "    </tr>\n",
       "  </thead>\n",
       "  <tbody>\n",
       "    <tr>\n",
       "      <th>0</th>\n",
       "      <td>EZYV01</td>\n",
       "      <td>Asia</td>\n",
       "      <td>High School</td>\n",
       "      <td>N</td>\n",
       "      <td>N</td>\n",
       "      <td>14513</td>\n",
       "      <td>2007</td>\n",
       "      <td>West</td>\n",
       "      <td>592.2029</td>\n",
       "      <td>Hour</td>\n",
       "      <td>Y</td>\n",
       "      <td>Denied</td>\n",
       "    </tr>\n",
       "    <tr>\n",
       "      <th>1</th>\n",
       "      <td>EZYV02</td>\n",
       "      <td>Asia</td>\n",
       "      <td>Master's</td>\n",
       "      <td>Y</td>\n",
       "      <td>N</td>\n",
       "      <td>2412</td>\n",
       "      <td>2002</td>\n",
       "      <td>Northeast</td>\n",
       "      <td>83425.6500</td>\n",
       "      <td>Year</td>\n",
       "      <td>Y</td>\n",
       "      <td>Certified</td>\n",
       "    </tr>\n",
       "    <tr>\n",
       "      <th>2</th>\n",
       "      <td>EZYV03</td>\n",
       "      <td>Asia</td>\n",
       "      <td>Bachelor's</td>\n",
       "      <td>N</td>\n",
       "      <td>Y</td>\n",
       "      <td>44444</td>\n",
       "      <td>2008</td>\n",
       "      <td>West</td>\n",
       "      <td>122996.8600</td>\n",
       "      <td>Year</td>\n",
       "      <td>Y</td>\n",
       "      <td>Denied</td>\n",
       "    </tr>\n",
       "    <tr>\n",
       "      <th>3</th>\n",
       "      <td>EZYV04</td>\n",
       "      <td>Asia</td>\n",
       "      <td>Bachelor's</td>\n",
       "      <td>N</td>\n",
       "      <td>N</td>\n",
       "      <td>98</td>\n",
       "      <td>1897</td>\n",
       "      <td>West</td>\n",
       "      <td>83434.0300</td>\n",
       "      <td>Year</td>\n",
       "      <td>Y</td>\n",
       "      <td>Denied</td>\n",
       "    </tr>\n",
       "    <tr>\n",
       "      <th>4</th>\n",
       "      <td>EZYV05</td>\n",
       "      <td>Africa</td>\n",
       "      <td>Master's</td>\n",
       "      <td>Y</td>\n",
       "      <td>N</td>\n",
       "      <td>1082</td>\n",
       "      <td>2005</td>\n",
       "      <td>South</td>\n",
       "      <td>149907.3900</td>\n",
       "      <td>Year</td>\n",
       "      <td>Y</td>\n",
       "      <td>Certified</td>\n",
       "    </tr>\n",
       "    <tr>\n",
       "      <th>...</th>\n",
       "      <td>...</td>\n",
       "      <td>...</td>\n",
       "      <td>...</td>\n",
       "      <td>...</td>\n",
       "      <td>...</td>\n",
       "      <td>...</td>\n",
       "      <td>...</td>\n",
       "      <td>...</td>\n",
       "      <td>...</td>\n",
       "      <td>...</td>\n",
       "      <td>...</td>\n",
       "      <td>...</td>\n",
       "    </tr>\n",
       "    <tr>\n",
       "      <th>25474</th>\n",
       "      <td>EZYV25475</td>\n",
       "      <td>Africa</td>\n",
       "      <td>Doctorate</td>\n",
       "      <td>N</td>\n",
       "      <td>N</td>\n",
       "      <td>2594</td>\n",
       "      <td>1979</td>\n",
       "      <td>Northeast</td>\n",
       "      <td>51104.7800</td>\n",
       "      <td>Year</td>\n",
       "      <td>Y</td>\n",
       "      <td>Certified</td>\n",
       "    </tr>\n",
       "    <tr>\n",
       "      <th>25475</th>\n",
       "      <td>EZYV25476</td>\n",
       "      <td>Asia</td>\n",
       "      <td>Bachelor's</td>\n",
       "      <td>Y</td>\n",
       "      <td>Y</td>\n",
       "      <td>2601</td>\n",
       "      <td>2008</td>\n",
       "      <td>South</td>\n",
       "      <td>77092.5700</td>\n",
       "      <td>Year</td>\n",
       "      <td>Y</td>\n",
       "      <td>Certified</td>\n",
       "    </tr>\n",
       "    <tr>\n",
       "      <th>25477</th>\n",
       "      <td>EZYV25478</td>\n",
       "      <td>Asia</td>\n",
       "      <td>Master's</td>\n",
       "      <td>Y</td>\n",
       "      <td>N</td>\n",
       "      <td>1121</td>\n",
       "      <td>1910</td>\n",
       "      <td>South</td>\n",
       "      <td>146298.8500</td>\n",
       "      <td>Year</td>\n",
       "      <td>N</td>\n",
       "      <td>Certified</td>\n",
       "    </tr>\n",
       "    <tr>\n",
       "      <th>25478</th>\n",
       "      <td>EZYV25479</td>\n",
       "      <td>Asia</td>\n",
       "      <td>Master's</td>\n",
       "      <td>Y</td>\n",
       "      <td>Y</td>\n",
       "      <td>1918</td>\n",
       "      <td>1887</td>\n",
       "      <td>West</td>\n",
       "      <td>86154.7700</td>\n",
       "      <td>Year</td>\n",
       "      <td>Y</td>\n",
       "      <td>Certified</td>\n",
       "    </tr>\n",
       "    <tr>\n",
       "      <th>25479</th>\n",
       "      <td>EZYV25480</td>\n",
       "      <td>Asia</td>\n",
       "      <td>Bachelor's</td>\n",
       "      <td>Y</td>\n",
       "      <td>N</td>\n",
       "      <td>3195</td>\n",
       "      <td>1960</td>\n",
       "      <td>Midwest</td>\n",
       "      <td>70876.9100</td>\n",
       "      <td>Year</td>\n",
       "      <td>Y</td>\n",
       "      <td>Certified</td>\n",
       "    </tr>\n",
       "  </tbody>\n",
       "</table>\n",
       "<p>25186 rows × 12 columns</p>\n",
       "</div>"
      ],
      "text/plain": [
       "         case_id continent education_of_employee has_job_experience  \\\n",
       "0         EZYV01      Asia           High School                  N   \n",
       "1         EZYV02      Asia              Master's                  Y   \n",
       "2         EZYV03      Asia            Bachelor's                  N   \n",
       "3         EZYV04      Asia            Bachelor's                  N   \n",
       "4         EZYV05    Africa              Master's                  Y   \n",
       "...          ...       ...                   ...                ...   \n",
       "25474  EZYV25475    Africa             Doctorate                  N   \n",
       "25475  EZYV25476      Asia            Bachelor's                  Y   \n",
       "25477  EZYV25478      Asia              Master's                  Y   \n",
       "25478  EZYV25479      Asia              Master's                  Y   \n",
       "25479  EZYV25480      Asia            Bachelor's                  Y   \n",
       "\n",
       "      requires_job_training  no_of_employees  yr_of_estab  \\\n",
       "0                         N            14513         2007   \n",
       "1                         N             2412         2002   \n",
       "2                         Y            44444         2008   \n",
       "3                         N               98         1897   \n",
       "4                         N             1082         2005   \n",
       "...                     ...              ...          ...   \n",
       "25474                     N             2594         1979   \n",
       "25475                     Y             2601         2008   \n",
       "25477                     N             1121         1910   \n",
       "25478                     Y             1918         1887   \n",
       "25479                     N             3195         1960   \n",
       "\n",
       "      region_of_employment  prevailing_wage unit_of_wage full_time_position  \\\n",
       "0                     West         592.2029         Hour                  Y   \n",
       "1                Northeast       83425.6500         Year                  Y   \n",
       "2                     West      122996.8600         Year                  Y   \n",
       "3                     West       83434.0300         Year                  Y   \n",
       "4                    South      149907.3900         Year                  Y   \n",
       "...                    ...              ...          ...                ...   \n",
       "25474            Northeast       51104.7800         Year                  Y   \n",
       "25475                South       77092.5700         Year                  Y   \n",
       "25477                South      146298.8500         Year                  N   \n",
       "25478                 West       86154.7700         Year                  Y   \n",
       "25479              Midwest       70876.9100         Year                  Y   \n",
       "\n",
       "      case_status  \n",
       "0          Denied  \n",
       "1       Certified  \n",
       "2          Denied  \n",
       "3          Denied  \n",
       "4       Certified  \n",
       "...           ...  \n",
       "25474   Certified  \n",
       "25475   Certified  \n",
       "25477   Certified  \n",
       "25478   Certified  \n",
       "25479   Certified  \n",
       "\n",
       "[25186 rows x 12 columns]"
      ]
     },
     "execution_count": 66,
     "metadata": {},
     "output_type": "execute_result"
    }
   ],
   "source": [
    "v5=wage_mean-3*wage_std\n",
    "v6=wage_mean+3*wage_std\n",
    "v5,v6\n",
    "con5=visa_df.prevailing_wage >v5\n",
    "con6=visa_df.prevailing_wage <v6\n",
    "visa_df[con5 & con6]"
   ]
  },
  {
   "cell_type": "code",
   "execution_count": 67,
   "id": "017a472a-8226-4b0d-982a-853ed60e2975",
   "metadata": {},
   "outputs": [
    {
     "data": {
      "text/plain": [
       "25186"
      ]
     },
     "execution_count": 67,
     "metadata": {},
     "output_type": "execute_result"
    }
   ],
   "source": [
    "count3=len(visa_df[con5 & con6])\n",
    "count3"
   ]
  },
  {
   "cell_type": "code",
   "execution_count": 71,
   "id": "ceda1f48-47f0-43f6-9d78-145548d96515",
   "metadata": {},
   "outputs": [
    {
     "data": {
      "text/plain": [
       "17114.24"
      ]
     },
     "execution_count": 71,
     "metadata": {},
     "output_type": "execute_result"
    }
   ],
   "source": [
    "68*25168/100"
   ]
  },
  {
   "cell_type": "code",
   "execution_count": 72,
   "id": "60dabe13-db20-407c-aa17-1143308df879",
   "metadata": {},
   "outputs": [
    {
     "data": {
      "text/plain": [
       "8365.759999999998"
      ]
     },
     "execution_count": 72,
     "metadata": {},
     "output_type": "execute_result"
    }
   ],
   "source": [
    "25480-17114.24"
   ]
  },
  {
   "cell_type": "code",
   "execution_count": null,
   "id": "43c706a2-592a-45eb-9b35-de58da7cabc2",
   "metadata": {},
   "outputs": [],
   "source": []
  }
 ],
 "metadata": {
  "kernelspec": {
   "display_name": "Python 3 (ipykernel)",
   "language": "python",
   "name": "python3"
  },
  "language_info": {
   "codemirror_mode": {
    "name": "ipython",
    "version": 3
   },
   "file_extension": ".py",
   "mimetype": "text/x-python",
   "name": "python",
   "nbconvert_exporter": "python",
   "pygments_lexer": "ipython3",
   "version": "3.11.7"
  }
 },
 "nbformat": 4,
 "nbformat_minor": 5
}
